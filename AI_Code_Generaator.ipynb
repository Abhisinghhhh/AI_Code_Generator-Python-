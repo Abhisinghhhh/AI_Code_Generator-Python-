{
  "nbformat": 4,
  "nbformat_minor": 0,
  "metadata": {
    "colab": {
      "provenance": []
    },
    "kernelspec": {
      "name": "python3",
      "display_name": "Python 3"
    },
    "language_info": {
      "name": "python"
    }
  },
  "cells": [
    {
      "cell_type": "code",
      "execution_count": null,
      "metadata": {
        "colab": {
          "base_uri": "https://localhost:8080/"
        },
        "id": "F2Pj8PmQmLqx",
        "outputId": "f5fed678-f2d3-497e-9ad0-b622aca2e2cf"
      },
      "outputs": [
        {
          "output_type": "stream",
          "name": "stdout",
          "text": [
            "🔍 Enter what Python code you want: Two Sum\n",
            "Raw generated code:\n",
            " ```\n",
            "def two_sum(nums, target):\n",
            "    hashmap = {}\n",
            "    for i, num in enumerate(nums):\n",
            "        complement = target - num\n",
            "        if complement in hashmap:\n",
            "            return [hashmap[complement], i]\n",
            "        hashmap[num] = i\n",
            "    return None\n",
            "```\n",
            "\n",
            "Cleaned code:\n",
            " def two_sum(nums, target):\n",
            "    hashmap = {}\n",
            "    for i, num in enumerate(nums):\n",
            "        complement = target - num\n",
            "        if complement in hashmap:\n",
            "            return [hashmap[complement], i]\n",
            "        hashmap[num] = i\n",
            "    return None\n",
            "\n",
            "✅ Generated Code:\n",
            "\n",
            "def two_sum(nums, target):\n",
            "    hashmap = {}\n",
            "    for i, num in enumerate(nums):\n",
            "        complement = target - num\n",
            "        if complement in hashmap:\n",
            "            return [hashmap[complement], i]\n",
            "        hashmap[num] = i\n",
            "    return None\n"
          ]
        }
      ],
      "source": [
        "import os\n",
        "import requests\n",
        "import re\n",
        "\n",
        "# Set your Groq API Key\n",
        "os.environ[\"GROQ_API_KEY\"] = \"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\"\n",
        "\n",
        "def clean_code(code):\n",
        "    \"\"\"\n",
        "    Remove markdown code fences (``` or ```python) from the generated code.\n",
        "    \"\"\"\n",
        "    # Remove starting ``` or ```python and any trailing newlines/spaces\n",
        "    code = re.sub(r\"^\\s*```(?:python)?\\s*\\n?\", \"\", code)\n",
        "    # Remove ending ```\n",
        "    code = re.sub(r\"\\n?\\s*```$\", \"\", code)\n",
        "    return code.strip()\n",
        "\n",
        "def generate_code(prompt):\n",
        "    url = \"https://api.groq.com/openai/v1/chat/completions\"\n",
        "    headers = {\n",
        "        \"Authorization\": f\"Bearer {os.environ['GROQ_API_KEY']}\",\n",
        "        \"Content-Type\": \"application/json\"\n",
        "    }\n",
        "\n",
        "    payload = {\n",
        "        \"model\": \"llama3-70b-8192\",\n",
        "        \"messages\": [\n",
        "            {\"role\": \"system\", \"content\": \"You are a Python code generator. Only return Python code.\"},\n",
        "            {\"role\": \"user\", \"content\": prompt}\n",
        "        ],\n",
        "        \"temperature\": 0.2\n",
        "    }\n",
        "\n",
        "    response = requests.post(url, headers=headers, json=payload)\n",
        "\n",
        "    if response.status_code != 200:\n",
        "        print(\"Error:\", response.status_code, response.text)\n",
        "        return None\n",
        "\n",
        "    code = response.json()[\"choices\"][0][\"message\"][\"content\"]\n",
        "    print(\"Raw generated code:\\n\", code)  # Debug print raw output\n",
        "    cleaned = clean_code(code)\n",
        "    print(\"\\nCleaned code:\\n\", cleaned)   # Debug print cleaned code\n",
        "    return cleaned\n",
        "\n",
        "if __name__ == \"__main__\":\n",
        "    user_prompt = input(\"🔍 Enter what Python code you want: \")\n",
        "\n",
        "    generated_code = generate_code(user_prompt)\n",
        "\n",
        "    if generated_code:\n",
        "        print(\"\\n✅ Generated Code:\\n\")\n",
        "        print(generated_code)\n",
        "\n",
        "        run = input(\"\\n⚠️ Do you want to run this code? (yes/no): \").strip().lower()\n",
        "        if run == \"yes\":\n",
        "            print(\"\\n▶️ Output:\\n\")\n",
        "            exec(generated_code)"
      ]
    },
    {
      "cell_type": "code",
      "source": [],
      "metadata": {
        "id": "NP4VTyHtmMjx"
      },
      "execution_count": null,
      "outputs": []
    }
  ]
}